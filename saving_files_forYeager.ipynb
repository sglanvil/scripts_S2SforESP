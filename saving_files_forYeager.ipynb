{
 "cells": [
  {
   "cell_type": "code",
   "execution_count": null,
   "id": "45c56c19-8e56-47f7-9fc9-6377c633cd87",
   "metadata": {},
   "outputs": [
    {
     "name": "stdout",
     "output_type": "stream",
     "text": [
      "1984\n"
     ]
    }
   ],
   "source": [
    "# need 100GB session to run this code (or maybe way less; like just 10GB; idk)\n",
    "# Using this to make EU-ASPECT files for Yeager. For E3SM SMYLE. Does SE->FV regridding\n",
    "# Can be used for variety of variables, dims, forecast lengths, etc. And it's a shorty.\n",
    "# in progress. July 28, 2025 omg.\n",
    "\n",
    "import xarray as xr\n",
    "import numpy as np\n",
    "import glob\n",
    "import os\n",
    "from IPython.display import clear_output\n",
    "from geocat.comp import interp_hybrid_to_pressure\n",
    "\n",
    "month = \"05\"\n",
    "varname = \"U\"\n",
    "varname_out = \"U\"\n",
    "year_start = 1981\n",
    "year_end = 2021\n",
    "srcDir = \"/glade/campaign/cgd/ccr/E3SMv2.1-SMYLEsmbb/archive\"\n",
    "destDir = \"/glade/derecho/scratch/sglanvil/holdingCell/SMYLE_E3SM\"\n",
    "tmpDir = \"/glade/derecho/scratch/sglanvil/holdingCell\"\n",
    "weightFile = \"/glade/work/strandwg/E3SM_regridding/maps/map_ne30pg2_to_0.9x1.25_aave.20230801.nc\"\n",
    "\n",
    "data = []\n",
    "times=[]\n",
    "for year in range(year_start, year_end + 1):\n",
    "    clear_output(wait=True)  # Clears the current output\n",
    "    print(year)\n",
    "    pattern = f\"{srcDir}/M{month}/v21.LR.BSMYLEsmbb.{year}-{month}.*/atm/proc/tseries/month_1/*.eam.h0.{varname}.*.nc\"\n",
    "    memb_files = sorted(glob.glob(pattern))\n",
    "    memb_data = []\n",
    "    for inFile in memb_files:\n",
    "        mappedFile = f\"{tmpDir}/tmp_{os.path.basename(inFile)}\"\n",
    "        cmd = f'module load nco && ncremap -m {weightFile} -in {inFile} {mappedFile}'  # ----- Regrid E3SM\n",
    "        os.system(f'bash -lc \"{cmd} > /dev/null 2>&1\"')\n",
    "        ds = xr.open_dataset(mappedFile,decode_times=False)\n",
    "        os.remove(mappedFile)\n",
    "        da = ds[varname].expand_dims(M=[0])\n",
    "        memb_data.append(da)\n",
    "    year_data = xr.concat(memb_data, dim=\"M\").expand_dims(Y=[year])\n",
    "    data.append(year_data)\n",
    "    times.append(xr.open_dataset(memb_files[0])[\"time\"].drop_vars(\"time\", errors=\"ignore\").expand_dims(\"Y\"))\n",
    "data = xr.concat(data, dim = \"Y\").rename({\"time\": \"L\"})\n",
    "times = xr.concat(times, dim=\"Y\").rename({\"time\": \"L\"})\n",
    "hyam = ds[\"hyam\"]\n",
    "hybm = ds[\"hybm\"]\n",
    "ds = data.to_dataset(name=varname_out)\n",
    "ds[\"time\"] = times\n",
    "if varname in [\"U\", \"V\"]:\n",
    "    ds[\"hyam\"] = hyam\n",
    "    ds[\"hybm\"] = hybm\n",
    "ds = ds.assign_coords(M=np.arange(1, ds.sizes[\"M\"] + 1))\n",
    "ds = ds.assign_coords(L=np.arange(1, ds.sizes[\"L\"] + 1))\n",
    "ds.to_netcdf(f\"{destDir}/{varname_out}_{year_start}-{year_end}_M{month}_E3SM_SMYLE.nc\")"
   ]
  },
  {
   "cell_type": "markdown",
   "id": "eb72ba35-2369-4445-9234-6c4c7185c089",
   "metadata": {},
   "source": [
    "### Deal with total precip calculation (PRECC+PRECL)"
   ]
  },
  {
   "cell_type": "code",
   "execution_count": null,
   "id": "45e76f5f-3f3f-4912-aca1-3ccb1ed9f524",
   "metadata": {},
   "outputs": [],
   "source": [
    "# Deal with total precip calculation (PRECC+PRECL)\n",
    "ds_precc = xr.open_dataset(f\"{destDir}/PRECC_1981-2021_M05_E3SM_SMYLE.nc\")\n",
    "ds_precl = xr.open_dataset(f\"{destDir}/PRECL_1981-2021_M05_E3SM_SMYLE.nc\")\n",
    "pr = ds_precc[\"PRECC\"] + ds_precl[\"PRECL\"]\n",
    "pr.attrs = ds_precc[\"PRECC\"].attrs\n",
    "pr.attrs[\"long_name\"] = \"Total precipitation (convective + large-scale)\"\n",
    "ds = pr.to_dataset(name=\"pr\")\n",
    "ds.to_netcdf(f\"{destDir}/pr_{year_start}-{year_end}_M{month}_E3SM_SMYLE.nc\")"
   ]
  },
  {
   "cell_type": "markdown",
   "id": "80ac3be3-692d-445d-b2bb-3467790869ba",
   "metadata": {},
   "source": [
    "### Deal with ua10, ua250, ua850, va250, va850"
   ]
  },
  {
   "cell_type": "code",
   "execution_count": 4,
   "id": "b9eb1d24-3071-4fd6-9390-15564cdd9bd4",
   "metadata": {},
   "outputs": [],
   "source": [
    "# Deal with ua10, ua250, ua850, va250, va850\n",
    "varname_out = \"ua850\"\n",
    "target = 85000.\n",
    "ds_U = xr.open_dataset(f\"{destDir}/U_1981-2021_M05_E3SM_SMYLE.nc\")\n",
    "ds_PS = xr.open_dataset(f\"{destDir}/PS_1981-2021_M05_E3SM_SMYLE.nc\")\n",
    "data = interp_hybrid_to_pressure(ds_U[\"U\"], ds_U['hyam'], ds_U['hybm'], ds_PS[\"PS\"], \n",
    "                                 p0=1e5, new_levels = np.array([target]), \n",
    "                                 method = 'linear').squeeze()\n",
    "ds = data.to_dataset(name=varname_out)\n",
    "ds.to_netcdf(f\"{destDir}/{varname_out}_{year_start}-{year_end}_M{month}_E3SM_SMYLE.nc\")"
   ]
  }
 ],
 "metadata": {
  "kernelspec": {
   "display_name": "NPL 2024a",
   "language": "python",
   "name": "npl-2024a"
  },
  "language_info": {
   "codemirror_mode": {
    "name": "ipython",
    "version": 3
   },
   "file_extension": ".py",
   "mimetype": "text/x-python",
   "name": "python",
   "nbconvert_exporter": "python",
   "pygments_lexer": "ipython3",
   "version": "3.11.6"
  }
 },
 "nbformat": 4,
 "nbformat_minor": 5
}
