{
 "cells": [
  {
   "cell_type": "code",
   "execution_count": 98,
   "id": "fe80cbd9-5286-4c33-bf6c-7ae9598b4b87",
   "metadata": {},
   "outputs": [
    {
     "name": "stdout",
     "output_type": "stream",
     "text": [
      "Processing: 1999 30\n",
      "need to fix time\n",
      "/glade/campaign/cesm/development/espwg/CESM2-DP/timeseries/b.e21.BSMYLE.f09_g17.1999-11.030/atm/proc/tseries/day_1/badLength/b.e21.BSMYLE.f09_g17.1999-11.030.cam.h1.PRECTMX.20011031-20091231.nc\n"
     ]
    }
   ],
   "source": [
    "import xarray as xr\n",
    "import pandas as pd\n",
    "import numpy as np\n",
    "import cftime\n",
    "import glob\n",
    "import os\n",
    "from IPython.display import clear_output\n",
    "# location of this script: /glade/work/sglanvil/CCR/yeager/fix_daily_files.ipynb\n",
    "\n",
    "ivar = \"PRECTMX\"\n",
    "baseDir = \"/glade/campaign/cesm/development/espwg/CESM2-DP/timeseries/\"\n",
    "for iyear in range(1990, 2000):\n",
    "    for imbr in range(11, 31):\n",
    "        member_str = f\"{imbr:03d}\"\n",
    "        member_dir = f\"{baseDir}b.e21.BSMYLE.f09_g17.{iyear}-11.{member_str}/atm/proc/tseries/day_1/badLength/\"\n",
    "        nc_files = glob.glob(os.path.join(member_dir, f\"*.{ivar}.*.nc\"))\n",
    "        clear_output(wait=True)  # Clears the current output\n",
    "        print(f\"Processing: {iyear} {imbr}\")\n",
    "        for nc_file in nc_files:\n",
    "            ds = xr.open_dataset(nc_file)\n",
    "            filename = os.path.basename(nc_file)\n",
    "            time_length = len(ds['time'])\n",
    "            if time_length < 2982:\n",
    "                print(\"need to fix time\")\n",
    "                print(nc_file)\n",
    "                fileOut = f\"{baseDir}b.e21.BSMYLE.f09_g17.{iyear}-11.{member_str}/atm/proc/tseries/day_1/{filename}\"\n",
    "                time_units = ds['time'].encoding.get('units', None)\n",
    "                time_vals = ds['time'].values\n",
    "                time_strings = [x.strftime('%Y-%m-%d %H:%M:%S') for x in time_vals]\n",
    "                current_time_range = pd.to_datetime(time_strings)\n",
    "                start_date = current_time_range.min()\n",
    "                end_date = current_time_range.max()\n",
    "                full_time_range = pd.date_range(start=start_date, end=end_date, freq=\"D\")\n",
    "                full_time_range = full_time_range[~((full_time_range.month == 2) & (full_time_range.day == 29))]\n",
    "                full_time_range_cftime = np.array([cftime.DatetimeNoLeap(x.year, x.month, x.day) for x in full_time_range])\n",
    "                ds = ds.drop_vars('time_bnds', errors='ignore')\n",
    "                \n",
    "                date_written = ds['date_written']\n",
    "                date_written_extended = xr.DataArray(np.repeat(date_written.isel(time=0).values,\n",
    "                                                               len(full_time_range_cftime)), dims=\"time\")\n",
    "                date_written_extended = date_written_extended.astype('S8')\n",
    "                \n",
    "                time_written = ds['time_written']\n",
    "                time_written_extended = xr.DataArray(np.repeat(time_written.isel(time=0).values,\n",
    "                                                               len(full_time_range_cftime)), dims=\"time\")\n",
    "                time_written_extended = time_written_extended.astype('S8')\n",
    "\n",
    "                ds_filled = ds.interp(time=full_time_range_cftime)\n",
    "                time_numeric = cftime.date2num(full_time_range_cftime, time_units[0:-9])\n",
    "                time_bnds = np.column_stack((time_numeric - 1, time_numeric))\n",
    "                ds_filled['time_bnds'] = (('time', 'nbnd'), time_bnds)\n",
    "                ds_filled['date_written'] = date_written_extended\n",
    "                ds_filled['time_written'] = time_written_extended\n",
    "\n",
    "                ds_filled['time_bnds'].attrs['long_name'] = \"time interval endpoints\"\n",
    "                ds_filled['time'].encoding['units'] = str(time_units)\n",
    "                ds_filled[f'{ivar}'] = ds_filled[f'{ivar}'].astype(np.float32)\n",
    "                ds_filled['time_bnds'] = ds_filled['time_bnds'].astype(np.double)\n",
    "                ds_filled.to_netcdf(fileOut)\n",
    "\n"
   ]
  },
  {
   "cell_type": "code",
   "execution_count": null,
   "id": "96b31bab-775a-4732-bf29-851a46c90c82",
   "metadata": {},
   "outputs": [],
   "source": []
  },
  {
   "cell_type": "code",
   "execution_count": null,
   "id": "1fa737b0-e302-4e5b-b50b-72341e461151",
   "metadata": {},
   "outputs": [],
   "source": []
  }
 ],
 "metadata": {
  "kernelspec": {
   "display_name": "NPL 2024b",
   "language": "python",
   "name": "npl-2024b"
  },
  "language_info": {
   "codemirror_mode": {
    "name": "ipython",
    "version": 3
   },
   "file_extension": ".py",
   "mimetype": "text/x-python",
   "name": "python",
   "nbconvert_exporter": "python",
   "pygments_lexer": "ipython3",
   "version": "3.11.9"
  }
 },
 "nbformat": 4,
 "nbformat_minor": 5
}
